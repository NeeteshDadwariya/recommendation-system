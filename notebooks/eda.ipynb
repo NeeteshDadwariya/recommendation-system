{
 "cells": [
  {
   "cell_type": "markdown",
   "metadata": {
    "collapsed": true
   },
   "source": [
    "# Exploratory Data Analysis\n"
   ]
  },
  {
   "cell_type": "code",
   "execution_count": 1,
   "metadata": {},
   "outputs": [],
   "source": [
    "#Imports\n",
    "import gdown\n",
    "import os\n",
    "import logging\n",
    "import pandas as pd\n",
    "import seaborn as sns"
   ]
  },
  {
   "cell_type": "code",
   "execution_count": 2,
   "metadata": {},
   "outputs": [],
   "source": [
    "#=========================================== DATA LOADING ==========================================="
   ]
  },
  {
   "cell_type": "code",
   "execution_count": 3,
   "metadata": {},
   "outputs": [],
   "source": [
    "ROOT_FOLDER = os.path.dirname(os.getcwd())\n",
    "DATA_FOLDER = ROOT_FOLDER + \"/data/\"\n",
    "\n",
    "LINKS_CSV = 'links.csv'\n",
    "MOVIES_CSV = 'movies.csv'\n",
    "RATINGS_CSV = 'ratings.csv'\n",
    "TAGS_CSV = 'tags.csv'\n",
    "\n",
    "data_links = 'https://drive.google.com/uc?id=19cRdbSbDD4lnKAbv6nfwppRXL7kko6HT'\n",
    "data_movies = 'https://drive.google.com/uc?id=14s8JDudJHGirQT3VYFwp18JBwSX3liYZ'\n",
    "data_ratings = 'https://drive.google.com/uc?id=1hYYWUHk5hrDsCdj4BJG0UXBhQ_-AiZWO'\n",
    "data_tags = 'https://drive.google.com/uc?id=1y7px4xin3_9KBvdAnmiz_uH0uBtPo-hH'"
   ]
  },
  {
   "cell_type": "code",
   "execution_count": 4,
   "metadata": {},
   "outputs": [],
   "source": [
    "def download_from_drive(url, output_filename):\n",
    "    output_filepath = DATA_FOLDER + output_filename\n",
    "    if not os.path.isfile(output_filepath):\n",
    "        gdown.download(url, output_filepath, quiet=True)\n",
    "\n",
    "def read_csv_to_df(filename):\n",
    "    return pd.read_csv(DATA_FOLDER + filename)\n",
    "\n",
    "def load_data():\n",
    "    # Download the dataset from the google drive so as to avoid large files in github.\n",
    "    download_from_drive(data_links, LINKS_CSV)\n",
    "    download_from_drive(data_movies, MOVIES_CSV)\n",
    "    download_from_drive(data_ratings, RATINGS_CSV)\n",
    "    download_from_drive(data_tags, TAGS_CSV)\n",
    "\n",
    "    # Read date files from spark context\n",
    "    links_df = read_csv_to_df(LINKS_CSV)\n",
    "    movies_df = read_csv_to_df(MOVIES_CSV)\n",
    "    ratings_df = read_csv_to_df(RATINGS_CSV)\n",
    "    tags_df = read_csv_to_df(TAGS_CSV)\n",
    "\n",
    "    return links_df, movies_df, ratings_df, tags_df"
   ]
  },
  {
   "cell_type": "code",
   "execution_count": 5,
   "metadata": {},
   "outputs": [],
   "source": [
    "links_df, movies_df, ratings_df, tags_df = load_data()"
   ]
  },
  {
   "cell_type": "code",
   "execution_count": 6,
   "metadata": {},
   "outputs": [],
   "source": [
    "#=========================================== Distribution by genre and ratings ==========================================="
   ]
  },
  {
   "cell_type": "code",
   "execution_count": 7,
   "metadata": {},
   "outputs": [
    {
     "data": {
      "text/plain": [
       "Index(['Genre'], dtype='object')"
      ]
     },
     "execution_count": 7,
     "metadata": {},
     "output_type": "execute_result"
    }
   ],
   "source": [
    "genres_wise_movies_df = pd.DataFrame(movies_df.genres.str.get_dummies('|').sum(), columns=['Genre'])\n",
    "genres_wise_movies_df.columns"
   ]
  },
  {
   "cell_type": "code",
   "execution_count": 18,
   "metadata": {
    "pycharm": {
     "name": "#%%\n"
    }
   },
   "outputs": [
    {
     "data": {
      "text/plain": [
       "<AxesSubplot:>"
      ]
     },
     "execution_count": 18,
     "metadata": {},
     "output_type": "execute_result"
    },
    {
     "data": {
      "image/png": "[encoded data removed]",
      "text/plain": [
       "<Figure size 432x288 with 1 Axes>"
      ]
     },
     "metadata": {
      "needs_background": "light"
     },
     "output_type": "display_data"
    }
   ],
   "source": [
    "movies_df.genres.str.get_dummies('|').sum().plot(kind='bar')"
   ]
  }
 ],
 "metadata": {
  "kernelspec": {
   "display_name": "recommendation-system-dev",
   "language": "python",
   "name": "recommendation-system-dev"
  },
  "language_info": {
   "codemirror_mode": {
    "name": "ipython",
    "version": 3
   },
   "file_extension": ".py",
   "mimetype": "text/x-python",
   "name": "python",
   "nbconvert_exporter": "python",
   "pygments_lexer": "ipython3",
   "version": "3.7.4"
  }
 },
 "nbformat": 4,
 "nbformat_minor": 1
}