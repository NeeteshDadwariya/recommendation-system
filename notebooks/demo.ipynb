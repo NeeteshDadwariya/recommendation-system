{
 "cells": [
  {
   "cell_type": "code",
   "execution_count": 1,
   "metadata": {},
   "outputs": [],
   "source": [
    "import gdown\n",
    "import os\n",
    "import findspark\n",
    "import logging\n",
    "from pyspark.sql import SparkSession"
   ]
  },
  {
   "cell_type": "code",
   "execution_count": 2,
   "metadata": {},
   "outputs": [],
   "source": [
    "logging.basicConfig(level=logging.INFO)\n",
    "logger = logging.getLogger(__name__)"
   ]
  },
  {
   "cell_type": "code",
   "execution_count": 3,
   "metadata": {},
   "outputs": [],
   "source": [
    "#=========================================== LOADING DATA ==========================================="
   ]
  },
  {
   "cell_type": "code",
   "execution_count": 4,
   "metadata": {},
   "outputs": [],
   "source": [
    "ROOT_FOLDER = os.path.dirname(os.getcwd())\n",
    "DATA_FOLDER = ROOT_FOLDER + \"/data/\""
   ]
  },
  {
   "cell_type": "code",
   "execution_count": 5,
   "metadata": {},
   "outputs": [
    {
     "data": {
      "text/plain": [
       "'/Users/mmt6314/My Drive/AI_ML/recommendation-system/data/'"
      ]
     },
     "execution_count": 5,
     "metadata": {},
     "output_type": "execute_result"
    }
   ],
   "source": [
    "DATA_FOLDER"
   ]
  },
  {
   "cell_type": "code",
   "execution_count": 6,
   "metadata": {},
   "outputs": [],
   "source": [
    "LINKS_CSV = 'links.csv'\n",
    "MOVIES_CSV = 'movies.csv'\n",
    "RATINGS_CSV = 'ratings.csv'\n",
    "TAGS_CSV = 'tags.csv'"
   ]
  },
  {
   "cell_type": "code",
   "execution_count": 7,
   "metadata": {},
   "outputs": [],
   "source": [
    "data_links = 'https://drive.google.com/uc?id=19cRdbSbDD4lnKAbv6nfwppRXL7kko6HT'\n",
    "data_movies = 'https://drive.google.com/uc?id=14s8JDudJHGirQT3VYFwp18JBwSX3liYZ'\n",
    "data_ratings = 'https://drive.google.com/uc?id=1hYYWUHk5hrDsCdj4BJG0UXBhQ_-AiZWO'\n",
    "data_tags = 'https://drive.google.com/uc?id=1y7px4xin3_9KBvdAnmiz_uH0uBtPo-hH'"
   ]
  },
  {
   "cell_type": "code",
   "execution_count": 8,
   "metadata": {},
   "outputs": [
    {
     "name": "stderr",
     "output_type": "stream",
     "text": [
      "INFO:__main__:Initializing spark environment...\n",
      "INFO:__main__:Spark environment initialized.\n"
     ]
    }
   ],
   "source": [
    "logger.info(\"Initializing spark environment...\")\n",
    "findspark.init()\n",
    "spark = SparkSession.builder.getOrCreate()\n",
    "spark.conf.set(\"spark.sql.repl.eagerEval.enabled\", True)\n",
    "logger.info(\"Spark environment initialized.\")"
   ]
  },
  {
   "cell_type": "code",
   "execution_count": 9,
   "metadata": {},
   "outputs": [],
   "source": [
    "def download_from_drive(url, output_filename):\n",
    "    output_filepath = DATA_FOLDER + output_filename\n",
    "    if not os.path.isfile(output_filepath):\n",
    "        gdown.download(url, output_filepath, quiet=True)\n",
    "\n",
    "def read_csv_to_df(filename):\n",
    "    return spark.read.option(\"header\", \"true\").csv(DATA_FOLDER + filename)\n",
    "\n",
    "def print_df(name, spark_df):\n",
    "    print(\"=========== {} ===========\".format(name))\n",
    "    spark_df.show(5);\n",
    "\n",
    "def load_data():\n",
    "    # Download the dataset from the google drive so as to avoid large files in github.\n",
    "    download_from_drive(data_links, LINKS_CSV)\n",
    "    download_from_drive(data_movies, MOVIES_CSV)\n",
    "    download_from_drive(data_ratings, RATINGS_CSV)\n",
    "    download_from_drive(data_tags, TAGS_CSV)\n",
    "\n",
    "    # Read date files from spark context\n",
    "    links_df = read_csv_to_df(LINKS_CSV)\n",
    "    movies_df = read_csv_to_df(MOVIES_CSV)\n",
    "    ratings_df = read_csv_to_df(RATINGS_CSV)\n",
    "    tags_df = read_csv_to_df(TAGS_CSV)\n",
    "\n",
    "    # Show data head\n",
    "    print_df('RATINGS', ratings_df);\n",
    "    print_df('MOVIES', movies_df);\n",
    "    print_df('TAGS', tags_df);\n",
    "    print_df('LINKS', links_df);\n",
    "\n",
    "    return links_df, movies_df, ratings_df, tags_df\n"
   ]
  },
  {
   "cell_type": "code",
   "execution_count": 10,
   "metadata": {},
   "outputs": [
    {
     "name": "stdout",
     "output_type": "stream",
     "text": [
      "=========== RATINGS ===========\n",
      "+------+-------+------+---------+\n",
      "|userId|movieId|rating|timestamp|\n",
      "+------+-------+------+---------+\n",
      "|     1|      1|   4.0|964982703|\n",
      "|     1|      3|   4.0|964981247|\n",
      "|     1|      6|   4.0|964982224|\n",
      "|     1|     47|   5.0|964983815|\n",
      "|     1|     50|   5.0|964982931|\n",
      "+------+-------+------+---------+\n",
      "only showing top 5 rows\n",
      "\n",
      "=========== MOVIES ===========\n",
      "+-------+--------------------+--------------------+\n",
      "|movieId|               title|              genres|\n",
      "+-------+--------------------+--------------------+\n",
      "|      1|    Toy Story (1995)|Adventure|Animati...|\n",
      "|      2|      Jumanji (1995)|Adventure|Childre...|\n",
      "|      3|Grumpier Old Men ...|      Comedy|Romance|\n",
      "|      4|Waiting to Exhale...|Comedy|Drama|Romance|\n",
      "|      5|Father of the Bri...|              Comedy|\n",
      "+-------+--------------------+--------------------+\n",
      "only showing top 5 rows\n",
      "\n",
      "=========== TAGS ===========\n",
      "+------+-------+---------------+----------+\n",
      "|userId|movieId|            tag| timestamp|\n",
      "+------+-------+---------------+----------+\n",
      "|     2|  60756|          funny|1445714994|\n",
      "|     2|  60756|Highly quotable|1445714996|\n",
      "|     2|  60756|   will ferrell|1445714992|\n",
      "|     2|  89774|   Boxing story|1445715207|\n",
      "|     2|  89774|            MMA|1445715200|\n",
      "+------+-------+---------------+----------+\n",
      "only showing top 5 rows\n",
      "\n",
      "=========== LINKS ===========\n",
      "+-------+-------+------+\n",
      "|movieId| imdbId|tmdbId|\n",
      "+-------+-------+------+\n",
      "|      1|0114709|   862|\n",
      "|      2|0113497|  8844|\n",
      "|      3|0113228| 15602|\n",
      "|      4|0114885| 31357|\n",
      "|      5|0113041| 11862|\n",
      "+-------+-------+------+\n",
      "only showing top 5 rows\n",
      "\n"
     ]
    }
   ],
   "source": [
    "links_df, movies_df, ratings_df, tags_df = load_data()"
   ]
  },
  {
   "cell_type": "code",
   "execution_count": 11,
   "metadata": {},
   "outputs": [],
   "source": [
    "#=========================================== DATA PREPROCESSING ==========================================="
   ]
  },
  {
   "cell_type": "code",
   "execution_count": 12,
   "metadata": {},
   "outputs": [
    {
     "name": "stdout",
     "output_type": "stream",
     "text": [
      "root\n",
      " |-- userId: integer (nullable = true)\n",
      " |-- movieId: integer (nullable = true)\n",
      " |-- rating: integer (nullable = true)\n",
      " |-- timestamp: string (nullable = true)\n",
      "\n"
     ]
    }
   ],
   "source": [
    "ratings_df = ratings_df.withColumn('userId', ratings_df.userId.cast('int'))\n",
    "ratings_df = ratings_df.withColumn('movieId', ratings_df.movieId.cast('int'))\n",
    "ratings_df = ratings_df.withColumn('rating', ratings_df.rating.cast('int'))\n",
    "ratings_df.printSchema()"
   ]
  },
  {
   "cell_type": "code",
   "execution_count": null,
   "metadata": {},
   "outputs": [],
   "source": []
  },
  {
   "cell_type": "code",
   "execution_count": null,
   "metadata": {},
   "outputs": [],
   "source": []
  },
  {
   "cell_type": "code",
   "execution_count": 13,
   "metadata": {},
   "outputs": [],
   "source": [
    "#=========================================== TRAINING MODEL ==========================================="
   ]
  },
  {
   "cell_type": "code",
   "execution_count": 14,
   "metadata": {},
   "outputs": [],
   "source": [
    "from pyspark.ml.recommendation import ALS"
   ]
  },
  {
   "cell_type": "code",
   "execution_count": 15,
   "metadata": {},
   "outputs": [],
   "source": [
    "#Setting model config\n",
    "config = {\n",
    "    'train_test': {\n",
    "        'split_factor': 0.8\n",
    "    },\n",
    "    'model_params': {\n",
    "        'maxIter': 10,\n",
    "        'regParam': 0.1,\n",
    "        'rank': 8,\n",
    "        'seed': 43,\n",
    "   }\n",
    "}"
   ]
  },
  {
   "cell_type": "code",
   "execution_count": 16,
   "metadata": {},
   "outputs": [],
   "source": [
    "split_factor = config[\"train_test\"][\"split_factor\"]\n",
    "model_params = config[\"model_params\"]\n",
    "maxIter, regParam, rank = [model_params[k] for k in ('maxIter', 'regParam', 'rank')]"
   ]
  },
  {
   "cell_type": "code",
   "execution_count": 17,
   "metadata": {},
   "outputs": [
    {
     "name": "stderr",
     "output_type": "stream",
     "text": [
      "INFO:__main__:Training the ALS model...\n"
     ]
    },
    {
     "name": "stdout",
     "output_type": "stream",
     "text": [
      "=========== train_data ===========\n",
      "+------+-------+------+---------+\n",
      "|userId|movieId|rating|timestamp|\n",
      "+------+-------+------+---------+\n",
      "|     1|      1|     4|964982703|\n",
      "|     1|      3|     4|964981247|\n",
      "|     1|      6|     4|964982224|\n",
      "|     1|     47|     5|964983815|\n",
      "|     1|     50|     5|964982931|\n",
      "+------+-------+------+---------+\n",
      "only showing top 5 rows\n",
      "\n",
      "=========== test_data ===========\n",
      "+------+-------+------+---------+\n",
      "|userId|movieId|rating|timestamp|\n",
      "+------+-------+------+---------+\n",
      "|     1|    223|     3|964980985|\n",
      "|     1|    260|     5|964981680|\n",
      "|     1|    923|     5|964981529|\n",
      "|     1|   1009|     3|964981775|\n",
      "|     1|   1030|     3|964982903|\n",
      "+------+-------+------+---------+\n",
      "only showing top 5 rows\n",
      "\n"
     ]
    }
   ],
   "source": [
    "logger.info(\"Training the ALS model...\")\n",
    "train_data, test_data = ratings_df.randomSplit([split_factor, 1-split_factor])\n",
    "print_df(\"train_data\", train_data)\n",
    "print_df(\"test_data\", test_data)"
   ]
  },
  {
   "cell_type": "code",
   "execution_count": 18,
   "metadata": {},
   "outputs": [],
   "source": [
    "als = ALS(\n",
    "    userCol=\"userId\", itemCol=\"movieId\", ratingCol=\"rating\"\n",
    "    #maxIter=maxIter,\n",
    "    #regParam=regParam,\n",
    "    #rank=rank,\n",
    "    #coldStartStrategy=\"drop\",\n",
    "    #nonnegative=True\n",
    ")"
   ]
  },
  {
   "cell_type": "code",
   "execution_count": 19,
   "metadata": {},
   "outputs": [],
   "source": [
    "model = als.fit(train_data)"
   ]
  },
  {
   "cell_type": "code",
   "execution_count": 20,
   "metadata": {},
   "outputs": [],
   "source": [
    "#=========================================== MODEL PERFORMANCE ==========================================="
   ]
  },
  {
   "cell_type": "code",
   "execution_count": 21,
   "metadata": {},
   "outputs": [],
   "source": [
    "from pyspark.ml.evaluation import RegressionEvaluator"
   ]
  },
  {
   "cell_type": "code",
   "execution_count": 22,
   "metadata": {},
   "outputs": [
    {
     "name": "stdout",
     "output_type": "stream",
     "text": [
      "+------+-------+------+----------+----------+\n",
      "|userId|movieId|rating| timestamp|prediction|\n",
      "+------+-------+------+----------+----------+\n",
      "|   436|    471|     3| 833530187|  3.688673|\n",
      "|   602|    471|     4| 840876085| 3.4019654|\n",
      "|   182|    471|     4|1054779644| 3.1394024|\n",
      "|   474|    471|     3| 974668858| 3.3648813|\n",
      "|   287|    471|     4|1110231536|  1.604083|\n",
      "|   469|    471|     5| 965425364| 2.9393153|\n",
      "|   608|    471|     1|1117161794|  2.583754|\n",
      "|   541|    471|     3| 835643551| 3.4622846|\n",
      "|   373|    471|     5| 846830388| 3.4612875|\n",
      "|   104|    471|     4|1238111129| 3.9173393|\n",
      "+------+-------+------+----------+----------+\n",
      "only showing top 10 rows\n",
      "\n"
     ]
    }
   ],
   "source": [
    "predictions = model.transform(test_data)\n",
    "predictions.show(10)"
   ]
  },
  {
   "cell_type": "code",
   "execution_count": 23,
   "metadata": {},
   "outputs": [
    {
     "name": "stdout",
     "output_type": "stream",
     "text": [
      "RMSE = nan\n"
     ]
    }
   ],
   "source": [
    "evaluator = RegressionEvaluator(metricName=\"rmse\", labelCol=\"rating\", predictionCol=\"prediction\")\n",
    "RMSE = evaluator.evaluate(predictions)\n",
    "print(\"RMSE = \" + str(RMSE))"
   ]
  },
  {
   "cell_type": "code",
   "execution_count": 24,
   "metadata": {},
   "outputs": [],
   "source": [
    "#=========================================== MODEL USAGES ==========================================="
   ]
  },
  {
   "cell_type": "code",
   "execution_count": 25,
   "metadata": {},
   "outputs": [],
   "source": [
    "from pyspark.sql.functions import col"
   ]
  },
  {
   "cell_type": "code",
   "execution_count": 26,
   "metadata": {
    "pycharm": {
     "name": "#%%\n"
    }
   },
   "outputs": [
    {
     "name": "stdout",
     "output_type": "stream",
     "text": [
      "User for which 'Toy Story (1995)' can be recommended: \n",
      "+------+\n",
      "|userId|\n",
      "+------+\n",
      "|   258|\n",
      "|    43|\n",
      "|   543|\n",
      "|    53|\n",
      "|   389|\n",
      "+------+\n",
      "\n"
     ]
    }
   ],
   "source": [
    "#Fidnding users for given movie\n",
    "\n",
    "INPUT_MOVIE_NAME = 'Toy Story (1995)'\n",
    "NO_OF_USERS = 5\n",
    "\n",
    "movieId_RDD = movies_df.where(col('title') == INPUT_MOVIE_NAME).select(\"movieId\").rdd.flatMap(lambda x: x)\n",
    "if not movieId_RDD.isEmpty():\n",
    "    movieId = int(movieId_RDD.first())\n",
    "    recommendations_df = model.recommendForItemSubset(spark.createDataFrame([(movieId, )], ['movieId']), NO_OF_USERS)\n",
    "    recommended_users = (recommendations_df.select('recommendations').rdd\n",
    "         .map(lambda x: x[0])\n",
    "         .flatMap(lambda x: x)\n",
    "         .map(lambda x: [x.userId])\n",
    "         .toDF(['userId']))\n",
    "    print('User for which \\'{}\\' can be recommended: '.format(INPUT_MOVIE_NAME));\n",
    "    recommended_users.show()\n",
    "else:\n",
    "    print('Movie \\'{}\\' not present in dataset.'.format(INPUT_MOVIE_NAME))\n"
   ]
  },
  {
   "cell_type": "code",
   "execution_count": 27,
   "metadata": {},
   "outputs": [
    {
     "name": "stdout",
     "output_type": "stream",
     "text": [
      "Movies which can be recommended for user=171\n",
      "+-------+-----------------------------------------------------+------------------------+------+\n",
      "|movieId|title                                                |genres                  |rating|\n",
      "+-------+-----------------------------------------------------+------------------------+------+\n",
      "|2936   |Sullivan's Travels (1941)                            |Adventure|Comedy|Romance|5.82  |\n",
      "|184245 |De platte jungle (1978)                              |Documentary             |5.82  |\n",
      "|171495 |Cosmos                                               |(no genres listed)      |5.82  |\n",
      "|26073  |Human Condition III, The (Ningen no joken III) (1961)|Drama|War               |5.82  |\n",
      "|117531 |Watermark (2014)                                     |Documentary             |5.82  |\n",
      "+-------+-----------------------------------------------------+------------------------+------+\n",
      "\n"
     ]
    }
   ],
   "source": [
    "#Finding movies for given user\n",
    "INPUT_USER_ID = 171;\n",
    "NO_OF_MOVIES = 5;\n",
    "\n",
    "recommended_movies_df = model.recommendForUserSubset(spark.createDataFrame([(INPUT_USER_ID, )], ['userId']), NO_OF_MOVIES)\n",
    "if not recommended_movies_df.rdd.isEmpty():\n",
    "    recommended_movies = (recommended_movies_df.select('recommendations').rdd\n",
    "         .map(lambda x: x[0])\n",
    "         .flatMap(lambda x: x)\n",
    "         .map(lambda x: [x.movieId, round(x.rating, 2)])\n",
    "         .toDF(['movieId', 'rating']))\n",
    "    print('Movies which can be recommended for user={}'.format(INPUT_USER_ID));\n",
    "    recommended_movies.join(movies_df, on=['movieId'], how='left_outer').select('movieId', 'title', 'genres', 'rating').show(truncate=False)\n",
    "else:\n",
    "    print('User not found in the database!!!')\n"
   ]
  },
  {
   "cell_type": "code",
   "execution_count": 28,
   "metadata": {},
   "outputs": [],
   "source": [
    "#=========================================== MODEL SAVE FOR INFERENCE PIPELINE ==========================================="
   ]
  },
  {
   "cell_type": "code",
   "execution_count": 29,
   "metadata": {},
   "outputs": [],
   "source": [
    "MODEL_DUMP_FOLDER = ROOT_FOLDER + '/model_dumps/'\n",
    "MODEL_FILE_NAME = 'als_matrix_factorization.pkl'"
   ]
  },
  {
   "cell_type": "code",
   "execution_count": 30,
   "metadata": {
    "pycharm": {
     "name": "#%%\n"
    }
   },
   "outputs": [],
   "source": [
    "# Save the model as a pickle in a file\n",
    "model.write().overwrite().save(MODEL_DUMP_FOLDER + MODEL_FILE_NAME)"
   ]
  },
  {
   "cell_type": "code",
   "execution_count": 41,
   "metadata": {},
   "outputs": [
    {
     "name": "stdout",
     "output_type": "stream",
     "text": [
      "MapPartitionsRDD[516] at toJavaRDD at NativeMethodAccessorImpl.java:0\n"
     ]
    }
   ],
   "source": [
    "print(recommended_users.toJSON())"
   ]
  },
  {
   "cell_type": "code",
   "execution_count": null,
   "metadata": {},
   "outputs": [],
   "source": []
  }
 ],
 "metadata": {
  "kernelspec": {
   "display_name": "recommendation-system-dev",
   "language": "python",
   "name": "recommendation-system-dev"
  },
  "language_info": {
   "codemirror_mode": {
    "name": "ipython",
    "version": 3
   },
   "file_extension": ".py",
   "mimetype": "text/x-python",
   "name": "python",
   "nbconvert_exporter": "python",
   "pygments_lexer": "ipython3",
   "version": "3.7.4"
  }
 },
 "nbformat": 4,
 "nbformat_minor": 1
}