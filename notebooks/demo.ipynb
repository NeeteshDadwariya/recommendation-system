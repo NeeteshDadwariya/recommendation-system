{
 "cells": [
  {
   "cell_type": "code",
   "execution_count": 13,
   "metadata": {},
   "outputs": [],
   "source": [
    "%load_ext autoreload\n",
    "%autoreload 2\n",
    "import sys\n",
    "sys.path.append('..')"
   ]
  },
  {
   "cell_type": "code",
   "execution_count": 2,
   "metadata": {},
   "outputs": [
    {
     "name": "stderr",
     "output_type": "stream",
     "text": [
      "INFO:src.train_test_pipeline.load_data:ROOT_FOLDER = /Users/mmt6314/My Drive/AI : ML/recommendation-system\n",
      "INFO:src.train_test_pipeline.load_data:DATA_FOLDER = /Users/mmt6314/My Drive/AI : ML/recommendation-system/data/\n"
     ]
    }
   ],
   "source": [
    "from src.train_test_pipeline.load_data import DataLoader"
   ]
  },
  {
   "cell_type": "code",
   "execution_count": 3,
   "metadata": {},
   "outputs": [
    {
     "name": "stderr",
     "output_type": "stream",
     "text": [
      "INFO:src.train_test_pipeline.load_data:Initializing spark environment...\n",
      "INFO:src.train_test_pipeline.load_data:Spark environment initialized.\n"
     ]
    }
   ],
   "source": [
    "loader = DataLoader()"
   ]
  },
  {
   "cell_type": "code",
   "execution_count": 4,
   "metadata": {},
   "outputs": [
    {
     "name": "stdout",
     "output_type": "stream",
     "text": [
      "RATINGS=:  [Row(userId='1', movieId='1', rating='4.0', timestamp='964982703'), Row(userId='1', movieId='3', rating='4.0', timestamp='964981247'), Row(userId='1', movieId='6', rating='4.0', timestamp='964982224'), Row(userId='1', movieId='47', rating='5.0', timestamp='964983815'), Row(userId='1', movieId='50', rating='5.0', timestamp='964982931')]\n",
      "\n",
      "MOVIES=:  [Row(movieId='1', title='Toy Story (1995)', genres='Adventure|Animation|Children|Comedy|Fantasy'), Row(movieId='2', title='Jumanji (1995)', genres='Adventure|Children|Fantasy'), Row(movieId='3', title='Grumpier Old Men (1995)', genres='Comedy|Romance'), Row(movieId='4', title='Waiting to Exhale (1995)', genres='Comedy|Drama|Romance'), Row(movieId='5', title='Father of the Bride Part II (1995)', genres='Comedy')]\n",
      "\n",
      "TAGS=:  [Row(userId='2', movieId='60756', tag='funny', timestamp='1445714994'), Row(userId='2', movieId='60756', tag='Highly quotable', timestamp='1445714996'), Row(userId='2', movieId='60756', tag='will ferrell', timestamp='1445714992'), Row(userId='2', movieId='89774', tag='Boxing story', timestamp='1445715207'), Row(userId='2', movieId='89774', tag='MMA', timestamp='1445715200')]\n",
      "\n",
      "LINKS=:  [Row(movieId='1', imdbId='0114709', tmdbId='862'), Row(movieId='2', imdbId='0113497', tmdbId='8844'), Row(movieId='3', imdbId='0113228', tmdbId='15602'), Row(movieId='4', imdbId='0114885', tmdbId='31357'), Row(movieId='5', imdbId='0113041', tmdbId='11862')]\n",
      "\n"
     ]
    }
   ],
   "source": [
    "links_df, movies_df, ratings_df, tags_df = loader.load_data()"
   ]
  },
  {
   "cell_type": "code",
   "execution_count": 17,
   "metadata": {},
   "outputs": [],
   "source": [
    "from src.train_test_pipeline.create_model import ModelBuilder"
   ]
  },
  {
   "cell_type": "code",
   "execution_count": 20,
   "metadata": {},
   "outputs": [],
   "source": [
    "builder = ModelBuilder(ratings_df)"
   ]
  },
  {
   "cell_type": "code",
   "execution_count": 21,
   "metadata": {
    "pycharm": {
     "name": "#%%\n"
    }
   },
   "outputs": [
    {
     "name": "stdout",
     "output_type": "stream",
     "text": [
      "train_data=  [Row(userId='1', movieId='1', rating='4.0', timestamp='964982703'), Row(userId='1', movieId='1009', rating='3.0', timestamp='964981775'), Row(userId='1', movieId='1023', rating='5.0', timestamp='964982681'), Row(userId='1', movieId='1024', rating='5.0', timestamp='964982876'), Row(userId='1', movieId='1025', rating='5.0', timestamp='964982791')]\n",
      "test_data=  [Row(userId='1', movieId='101', rating='5.0', timestamp='964980868'), Row(userId='1', movieId='1080', rating='5.0', timestamp='964981327'), Row(userId='1', movieId='1097', rating='5.0', timestamp='964981680'), Row(userId='1', movieId='1127', rating='4.0', timestamp='964982513'), Row(userId='1', movieId='1214', rating='4.0', timestamp='964981855')]\n"
     ]
    },
    {
     "ename": "TypeError",
     "evalue": "ALS() takes no arguments",
     "output_type": "error",
     "traceback": [
      "\u001B[0;31m---------------------------------------------------------------------------\u001B[0m",
      "\u001B[0;31mTypeError\u001B[0m                                 Traceback (most recent call last)",
      "\u001B[0;32m<ipython-input-21-d53234e8f46b>\u001B[0m in \u001B[0;36m<module>\u001B[0;34m\u001B[0m\n\u001B[0;32m----> 1\u001B[0;31m \u001B[0mbuilder\u001B[0m\u001B[0;34m.\u001B[0m\u001B[0mcreate_model\u001B[0m\u001B[0;34m(\u001B[0m\u001B[0;34m)\u001B[0m\u001B[0;34m\u001B[0m\u001B[0;34m\u001B[0m\u001B[0m\n\u001B[0m",
      "\u001B[0;32m~/My Drive/AI : ML/recommendation-system/src/train_test_pipeline/create_model.py\u001B[0m in \u001B[0;36mcreate_model\u001B[0;34m(self)\u001B[0m\n\u001B[1;32m     22\u001B[0m                   \u001B[0mrank\u001B[0m\u001B[0;34m=\u001B[0m\u001B[0mself\u001B[0m\u001B[0;34m.\u001B[0m\u001B[0mmodel_params\u001B[0m\u001B[0;34m[\u001B[0m\u001B[0;34m\"rank\"\u001B[0m\u001B[0;34m]\u001B[0m\u001B[0;34m,\u001B[0m\u001B[0;34m\u001B[0m\u001B[0;34m\u001B[0m\u001B[0m\n\u001B[1;32m     23\u001B[0m                   \u001B[0mnonnegative\u001B[0m\u001B[0;34m=\u001B[0m\u001B[0;32mTrue\u001B[0m\u001B[0;34m,\u001B[0m \u001B[0mcoldStartStrategy\u001B[0m\u001B[0;34m=\u001B[0m\u001B[0;34m\"drop\"\u001B[0m\u001B[0;34m,\u001B[0m \u001B[0muserCol\u001B[0m\u001B[0;34m=\u001B[0m\u001B[0;34m'userId'\u001B[0m\u001B[0;34m,\u001B[0m\u001B[0;34m\u001B[0m\u001B[0;34m\u001B[0m\u001B[0m\n\u001B[0;32m---> 24\u001B[0;31m                   itemCol='movieId', ratingCol='rating')\n\u001B[0m\u001B[1;32m     25\u001B[0m         \u001B[0mself\u001B[0m\u001B[0;34m.\u001B[0m\u001B[0mmodel\u001B[0m \u001B[0;34m=\u001B[0m \u001B[0mals\u001B[0m\u001B[0;34m.\u001B[0m\u001B[0mfit\u001B[0m\u001B[0;34m(\u001B[0m\u001B[0mtrain_data\u001B[0m\u001B[0;34m)\u001B[0m\u001B[0;34m\u001B[0m\u001B[0;34m\u001B[0m\u001B[0m\n\u001B[1;32m     26\u001B[0m         \u001B[0mprint\u001B[0m\u001B[0;34m(\u001B[0m\u001B[0;34m'hello'\u001B[0m\u001B[0;34m)\u001B[0m\u001B[0;34m\u001B[0m\u001B[0;34m\u001B[0m\u001B[0m\n",
      "\u001B[0;31mTypeError\u001B[0m: ALS() takes no arguments"
     ]
    }
   ],
   "source": [
    "builder.create_model()"
   ]
  },
  {
   "cell_type": "code",
   "execution_count": null,
   "metadata": {},
   "outputs": [],
   "source": [
    "model.model_params[\"maxIter\"]"
   ]
  },
  {
   "cell_type": "code",
   "execution_count": null,
   "metadata": {},
   "outputs": [],
   "source": []
  },
  {
   "cell_type": "code",
   "execution_count": null,
   "metadata": {},
   "outputs": [],
   "source": []
  },
  {
   "cell_type": "code",
   "execution_count": null,
   "metadata": {},
   "outputs": [],
   "source": []
  },
  {
   "cell_type": "code",
   "execution_count": null,
   "metadata": {},
   "outputs": [],
   "source": []
  },
  {
   "cell_type": "code",
   "execution_count": null,
   "metadata": {},
   "outputs": [],
   "source": []
  },
  {
   "cell_type": "code",
   "execution_count": null,
   "metadata": {},
   "outputs": [],
   "source": []
  },
  {
   "cell_type": "code",
   "execution_count": null,
   "metadata": {},
   "outputs": [],
   "source": []
  },
  {
   "cell_type": "code",
   "execution_count": null,
   "metadata": {},
   "outputs": [],
   "source": []
  },
  {
   "cell_type": "code",
   "execution_count": null,
   "metadata": {},
   "outputs": [],
   "source": []
  },
  {
   "cell_type": "code",
   "execution_count": null,
   "metadata": {},
   "outputs": [],
   "source": []
  },
  {
   "cell_type": "code",
   "execution_count": null,
   "metadata": {},
   "outputs": [],
   "source": []
  },
  {
   "cell_type": "code",
   "execution_count": null,
   "metadata": {},
   "outputs": [],
   "source": []
  },
  {
   "cell_type": "code",
   "execution_count": null,
   "metadata": {},
   "outputs": [],
   "source": []
  },
  {
   "cell_type": "code",
   "execution_count": null,
   "metadata": {},
   "outputs": [],
   "source": []
  },
  {
   "cell_type": "code",
   "execution_count": null,
   "metadata": {},
   "outputs": [],
   "source": []
  },
  {
   "cell_type": "code",
   "execution_count": null,
   "metadata": {},
   "outputs": [],
   "source": []
  },
  {
   "cell_type": "code",
   "execution_count": null,
   "metadata": {},
   "outputs": [],
   "source": []
  },
  {
   "cell_type": "code",
   "execution_count": null,
   "metadata": {},
   "outputs": [],
   "source": []
  },
  {
   "cell_type": "code",
   "execution_count": null,
   "metadata": {},
   "outputs": [],
   "source": []
  },
  {
   "cell_type": "code",
   "execution_count": null,
   "metadata": {},
   "outputs": [],
   "source": []
  },
  {
   "cell_type": "code",
   "execution_count": null,
   "metadata": {
    "pycharm": {
     "name": "#%%\n"
    }
   },
   "outputs": [],
   "source": []
  }
 ],
 "metadata": {
  "kernelspec": {
   "display_name": "recommendation-system-dev",
   "language": "python",
   "name": "recommendation-system-dev"
  },
  "language_info": {
   "codemirror_mode": {
    "name": "ipython",
    "version": 3
   },
   "file_extension": ".py",
   "mimetype": "text/x-python",
   "name": "python",
   "nbconvert_exporter": "python",
   "pygments_lexer": "ipython3",
   "version": "3.7.4"
  }
 },
 "nbformat": 4,
 "nbformat_minor": 1
}