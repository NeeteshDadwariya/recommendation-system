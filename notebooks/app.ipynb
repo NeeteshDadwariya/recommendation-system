{
 "cells": [
  {
   "cell_type": "code",
   "execution_count": 8,
   "metadata": {
    "pycharm": {
     "name": "#%%\n"
    },
    "scrolled": true
   },
   "outputs": [
    {
     "name": "stdout",
     "output_type": "stream",
     "text": [
      "RATINGS=:  [Row(userId='1', movieId='1', rating='4.0', timestamp='964982703'), Row(userId='1', movieId='3', rating='4.0', timestamp='964981247'), Row(userId='1', movieId='6', rating='4.0', timestamp='964982224'), Row(userId='1', movieId='47', rating='5.0', timestamp='964983815'), Row(userId='1', movieId='50', rating='5.0', timestamp='964982931')]\n",
      "\n",
      "MOVIES=:  [Row(movieId='1', title='Toy Story (1995)', genres='Adventure|Animation|Children|Comedy|Fantasy'), Row(movieId='2', title='Jumanji (1995)', genres='Adventure|Children|Fantasy'), Row(movieId='3', title='Grumpier Old Men (1995)', genres='Comedy|Romance'), Row(movieId='4', title='Waiting to Exhale (1995)', genres='Comedy|Drama|Romance'), Row(movieId='5', title='Father of the Bride Part II (1995)', genres='Comedy')]\n",
      "\n",
      "TAGS=:  [Row(userId='2', movieId='60756', tag='funny', timestamp='1445714994'), Row(userId='2', movieId='60756', tag='Highly quotable', timestamp='1445714996'), Row(userId='2', movieId='60756', tag='will ferrell', timestamp='1445714992'), Row(userId='2', movieId='89774', tag='Boxing story', timestamp='1445715207'), Row(userId='2', movieId='89774', tag='MMA', timestamp='1445715200')]\n",
      "\n",
      "LINKS=:  [Row(movieId='1', imdbId='0114709', tmdbId='862'), Row(movieId='2', imdbId='0113497', tmdbId='8844'), Row(movieId='3', imdbId='0113228', tmdbId='15602'), Row(movieId='4', imdbId='0114885', tmdbId='31357'), Row(movieId='5', imdbId='0113041', tmdbId='11862')]\n",
      "\n"
     ]
    }
   ],
   "source": [
    "from load_data import load_data, links_df, ratings_df, tags_df, movies_df;\n",
    "load_data()"
   ]
  },
  {
   "cell_type": "code",
   "execution_count": null,
   "metadata": {
    "pycharm": {
     "is_executing": true,
     "name": "#%%\n"
    }
   },
   "outputs": [],
   "source": [
    "%run './process_data.py'"
   ]
  },
  {
   "cell_type": "code",
   "execution_count": null,
   "metadata": {
    "pycharm": {
     "is_executing": true,
     "name": "#%%\n"
    }
   },
   "outputs": [],
   "source": [
    "%run './create_model.py'"
   ]
  },
  {
   "cell_type": "code",
   "execution_count": null,
   "metadata": {
    "pycharm": {
     "is_executing": true,
     "name": "#%%\n"
    }
   },
   "outputs": [],
   "source": [
    "%run './model_validation.py'"
   ]
  },
  {
   "cell_type": "code",
   "execution_count": null,
   "metadata": {
    "pycharm": {
     "is_executing": true,
     "name": "#%%\n"
    }
   },
   "outputs": [],
   "source": [
    "%run './model_performance.py'"
   ]
  }
 ],
 "metadata": {
  "kernelspec": {
   "display_name": "PyCharm (recommendation-system)",
   "language": "python",
   "name": "pycharm-5e2048d"
  },
  "language_info": {
   "codemirror_mode": {
    "name": "ipython",
    "version": 3
   },
   "file_extension": ".py",
   "mimetype": "text/x-python",
   "name": "python",
   "nbconvert_exporter": "python",
   "pygments_lexer": "ipython3",
   "version": "3.7.4"
  }
 },
 "nbformat": 4,
 "nbformat_minor": 1
}
